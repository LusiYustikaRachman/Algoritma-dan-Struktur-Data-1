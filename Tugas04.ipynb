{
 "cells": [
  {
   "cell_type": "code",
   "execution_count": 1,
   "metadata": {},
   "outputs": [
    {
     "name": "stdout",
     "output_type": "stream",
     "text": [
      "hasil 5 + 2 = 7\n",
      "hasil 5 - 2 = 3\n",
      "hasil 5 * 2 = 10\n",
      "hasil 5 / 2 = 2.5\n",
      "hasil 5 % 5 = 1\n",
      "hasil 5 ** 2 = 25\n"
     ]
    }
   ],
   "source": [
    "#lusi yustika rachman\n",
    "#operator aritmatika\n",
    "\n",
    "#menggunakan operator penjumlahan\n",
    "l = 5\n",
    "r = 2\n",
    "jumlah = l + r\n",
    "print (\"hasil\", l, \"+\", r, \"=\", jumlah)\n",
    "\n",
    "#menggunakan operator pengurangan\n",
    "kurang = l - r\n",
    "print (\"hasil\", l, \"-\", r, \"=\", kurang)\n",
    "\n",
    "#menggunakan operator perkalian\n",
    "kali = l * r\n",
    "print (\"hasil\", l, \"*\", r, \"=\", kali)\n",
    "\n",
    "#menggunakan operator pembagian\n",
    "bagi = l / r\n",
    "print (\"hasil\", l, \"/\", r, \"=\", bagi)\n",
    "\n",
    "#menggunakan operator sisa bagi\n",
    "sisa_bagi = l % r\n",
    "print (\"hasil\", l, \"%\", l, \"=\", sisa_bagi)\n",
    "\n",
    "#menggunakan operator pemangkatan\n",
    "pemangkatan = l ** r\n",
    "print (\"hasil\", l, \"**\", r, \"=\", pemangkatan)"
   ]
  },
  {
   "cell_type": "code",
   "execution_count": 2,
   "metadata": {},
   "outputs": [
    {
     "name": "stdout",
     "output_type": "stream",
     "text": [
      "data yang diisi adalah : 7\n",
      "data setelah ditambah 1 adalah :  8\n",
      "data setelah dikurangi adalah : 6\n",
      "data setelah dikalikan adalah : 54\n",
      "data setelah dibagi adalah : 54.0\n",
      "data sisa setelah setelah dibagi 2 adalah : 2.0\n",
      "data setelah dipangkatkan adalah : 4.0\n"
     ]
    }
   ],
   "source": [
    "#lusi yustika rachman\n",
    "#operator penugasan\n",
    "\n",
    "#operator penugasan untuk mengisi data\n",
    "data = 7\n",
    "print (\"data yang diisi adalah :\" , data)\n",
    "\n",
    "#operator penugasan untuk penjumlahan\n",
    "data += 1\n",
    "print (\"data setelah ditambah 1 adalah : \", data)\n",
    "\n",
    "#operator penugasan untuk pengurangan\n",
    "data -= 2\n",
    "print (\"data setelah dikurangi adalah :\" , data)\n",
    "\n",
    "#operator penugasan untuk perkalian\n",
    "data *= 9\n",
    "print (\"data setelah dikalikan adalah :\", data)\n",
    "\n",
    "#operator penugasan untuk pembagian\n",
    "data /= 1\n",
    "print (\"data setelah dibagi adalah :\", data)\n",
    "\n",
    "#operator penugasan untuk sisa bagi\n",
    "data %= 4\n",
    "print (\"data sisa setelah setelah dibagi 2 adalah :\", data)\n",
    "\n",
    "#operator penugasan pemangkatan\n",
    "data **= 2\n",
    "print (\"data setelah dipangkatkan adalah :\", data)"
   ]
  },
  {
   "cell_type": "code",
   "execution_count": 3,
   "metadata": {},
   "outputs": [
    {
     "name": "stdout",
     "output_type": "stream",
     "text": [
      "apakah x lebih besar dari y? True\n",
      "apakah x lebih kecil dari y? False\n",
      "apakah x sama dengan y? False\n",
      "apakah x tidak sama dengan y? True\n",
      "apakah x lebih besar sama dengan y? True\n",
      "apakah x lebih kecil sama dengan y? False\n"
     ]
    }
   ],
   "source": [
    "#lusi yustika rachman\n",
    "#operator pembanding \n",
    "\n",
    "#operator perbandingan >\n",
    "x = 12\n",
    "y = 5\n",
    "\n",
    "perbandingan1 = x > y\n",
    "print (\"apakah x lebih besar dari y?\", perbandingan1)\n",
    "\n",
    "#operator prbandingan <\n",
    "perbandingan2 = x < y\n",
    "print (\"apakah x lebih kecil dari y?\", perbandingan2)\n",
    "\n",
    "#operator perbandingan ==\n",
    "perbandingan3 = x == y\n",
    "print (\"apakah x sama dengan y?\", perbandingan3)\n",
    "\n",
    "#operator perbandingan !=\n",
    "perbandingan4 = x != y\n",
    "print (\"apakah x tidak sama dengan y?\", perbandingan4)\n",
    "\n",
    "#operator perbandingan >=\n",
    "perbandingan5 = x >= y\n",
    "print (\"apakah x lebih besar sama dengan y?\", perbandingan5)\n",
    "\n",
    "#operator perbandingan <=\n",
    "perbandingan6 = x <= y\n",
    "print (\"apakah x lebih kecil sama dengan y?\", perbandingan6)"
   ]
  },
  {
   "cell_type": "code",
   "execution_count": 4,
   "metadata": {},
   "outputs": [
    {
     "name": "stdout",
     "output_type": "stream",
     "text": [
      "logika and adalah jika keduanya True, maka : True\n",
      "logika and adalah jika salah satunya False, maka : False\n",
      "logika and adalah jika keduanya False, maka : False\n",
      "logika or adalah jia keduanya True, maka : True\n",
      "logika or adalah jika salah satunya True, maka : True\n",
      "logika or adalah jika keduanya false, maka False\n",
      "logika NOT adalah jika True, maka : False\n",
      "logika Not adalah jika False, maka : True\n"
     ]
    }
   ],
   "source": [
    "#lusi yustika rachman\n",
    "#operator logika\n",
    "\n",
    "#logika and\n",
    "nilai1 = True\n",
    "nilai2 = True\n",
    "and1 = nilai1 and nilai2\n",
    "print (\"logika and adalah jika keduanya True, maka :\", and1)\n",
    "\n",
    "nilai3 = True\n",
    "nilai4 = False\n",
    "and2 = nilai3 and nilai4\n",
    "print (\"logika and adalah jika salah satunya False, maka :\", and2)\n",
    "\n",
    "nilai5 = False\n",
    "nilai6 = False\n",
    "and3 = nilai5 and nilai6\n",
    "print (\"logika and adalah jika keduanya False, maka :\", and3)\n",
    "\n",
    "#logika or\n",
    "or1 = nilai1  or nilai2\n",
    "print (\"logika or adalah jia keduanya True, maka :\", or1)\n",
    "\n",
    "or2 = nilai3 or nilai4\n",
    "print (\"logika or adalah jika salah satunya True, maka :\", or2)\n",
    "\n",
    "or3 = nilai5 or nilai6\n",
    "print (\"logika or adalah jika keduanya false, maka\", or3)\n",
    "\n",
    "#logika NOT\n",
    "\n",
    "not1 = not True \n",
    "print (\"logika NOT adalah jika True, maka :\", not1)\n",
    "\n",
    "not2 = not False\n",
    "print (\"logika Not adalah jika False, maka :\", not2)"
   ]
  },
  {
   "cell_type": "code",
   "execution_count": 5,
   "metadata": {},
   "outputs": [
    {
     "name": "stdout",
     "output_type": "stream",
     "text": [
      "masukan nama bayi :layla\n",
      "masukan berat badan bayi (KG) :10\n",
      "berat badannya : 100\n",
      "hello layla berat badan kamu 1 bulan lagi adalah 40 ons\n"
     ]
    }
   ],
   "source": [
    "#lusi yustika rachman\n",
    "#input output\n",
    "\n",
    "#menampilkan input\n",
    "nama_bayi = (input (\"masukan nama bayi :\"))\n",
    "berat_badan = int (input(\"masukan berat badan bayi (KG) :\"))\n",
    "\n",
    "#proses\n",
    "ons = berat_badan * 10\n",
    "berat_badan_1bulan = berat_badan + 30\n",
    "\n",
    "#menampilkan output\n",
    "print (\"berat badannya :\", ons)\n",
    "print (\"hello\", nama_bayi, \"berat badan kamu 1 bulan lagi adalah\", berat_badan_1bulan, \"ons\")\n"
   ]
  }
 ],
 "metadata": {
  "kernelspec": {
   "display_name": "Python 3",
   "language": "python",
   "name": "python3"
  },
  "language_info": {
   "codemirror_mode": {
    "name": "ipython",
    "version": 3
   },
   "file_extension": ".py",
   "mimetype": "text/x-python",
   "name": "python",
   "nbconvert_exporter": "python",
   "pygments_lexer": "ipython3",
   "version": "3.8.3"
  }
 },
 "nbformat": 4,
 "nbformat_minor": 4
}
